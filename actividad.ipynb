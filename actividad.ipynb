{
 "cells": [
  {
   "cell_type": "markdown",
   "id": "498731c6",
   "metadata": {},
   "source": [
    "# Actividad - Trabajando con Series de Pandas.\n",
    "## Criterios de evaluación.\n",
    "\n",
    "* Se deben utilizar nombres de variables descriptivos y claros (Utilizar la nomeclatura correspondiente para los nombres de variables).\n",
    "* Comentarios claros y concisos que expliquen el propósito de cada sección del código.\n",
    "* Utilizar mensajes de commit **descriptivos**. (Puedes utilizar la extension CONVENTIONAL COMMIT de VS-CODE). \n",
    "* Entrega en tiempo y forma.\n",
    "* Todo el código desarrollado debe ser subido a un repositorio en GitHub (el nombre del repositorio de seguir la siguiente estructura: actividad_tlp3_nombre_apellido).\n",
    "* Para resolver las actividades se debe insertar casillas de codigo entre cada actividad del cuaderno de Jupyter\n",
    "\n",
    "### ¡Importante!\n",
    "**El incumplimiento de los criterios de evaluación restará puntos en la nota final del práctico!**"
   ]
  },
  {
   "cell_type": "markdown",
   "id": "b361a7b6",
   "metadata": {},
   "source": [
    "### **Actividad 1:** \n",
    "\n",
    "Crear Series desde diferentes estructuras.\n",
    "* Crea una Series con los números del 1 al 5\n",
    "* Crea una Series a partir de un diccionario con nombres de países como claves y sus capitales como valores."
   ]
  },
  {
   "cell_type": "code",
   "execution_count": 1,
   "id": "26009294",
   "metadata": {},
   "outputs": [],
   "source": [
    "\n",
    "# todo:\n",
    "from pandas import Series"
   ]
  },
  {
   "cell_type": "code",
   "execution_count": 4,
   "id": "a724ab9d",
   "metadata": {},
   "outputs": [
    {
     "data": {
      "text/plain": [
       "0    1\n",
       "1    2\n",
       "2    3\n",
       "3    4\n",
       "4    5\n",
       "dtype: int64"
      ]
     },
     "execution_count": 4,
     "metadata": {},
     "output_type": "execute_result"
    }
   ],
   "source": [
    "lista = [1,2,3,4,5]\n",
    "nueva_serie = Series(lista)\n",
    "nueva_serie\n"
   ]
  },
  {
   "cell_type": "code",
   "execution_count": 5,
   "id": "63201d96",
   "metadata": {},
   "outputs": [
    {
     "data": {
      "text/plain": [
       "Argentina           Buenos Aires\n",
       "Colombia                  Bogota\n",
       "Estados Unidos    Washington D.C\n",
       "Japon                      Tokio\n",
       "dtype: object"
      ]
     },
     "execution_count": 5,
     "metadata": {},
     "output_type": "execute_result"
    }
   ],
   "source": [
    "capitales = {\"Argentina\": \"Buenos Aires\", \"Colombia\": \"Bogota\", \"Estados Unidos\": \"Washington D.C\", \"Japon\": \"Tokio\"}\n",
    "paises = Series(capitales)\n",
    "paises"
   ]
  },
  {
   "cell_type": "markdown",
   "id": "0c239195",
   "metadata": {},
   "source": [
    "### **Actividad 2:** \n",
    "Acceso y selección de elementos.\n",
    "* Usa una Series con tareas (que haceres cotidianos) de una semana\n",
    "* Accede a diferentes elementos a elección.\n",
    "* Cambia los valores de los dias pares.\n"
   ]
  },
  {
   "cell_type": "code",
   "execution_count": 14,
   "id": "3611d25a",
   "metadata": {},
   "outputs": [
    {
     "data": {
      "text/plain": [
       "1      Lavar la ropa\n",
       "2            Cocinar\n",
       "3    Limpiar el piso\n",
       "4            Cocinar\n",
       "5    Sacar la Basura\n",
       "6     Tender la Cama\n",
       "7    Buscar Verduras\n",
       "dtype: object"
      ]
     },
     "execution_count": 14,
     "metadata": {},
     "output_type": "execute_result"
    }
   ],
   "source": [
    "\n",
    "# todo:\n",
    "dias = {1: \"Lavar la ropa\", 2: \"Cocinar\", 3: \"Limpiar el piso\", 4: \"Cocinar\", 5: \"Sacar la Basura\", 6: \"Tender la Cama\", 7: \"Buscar Verduras\"}\n",
    "quehaceres = Series(dias)\n",
    "quehaceres"
   ]
  },
  {
   "cell_type": "code",
   "execution_count": 15,
   "id": "4818862c",
   "metadata": {},
   "outputs": [
    {
     "name": "stdout",
     "output_type": "stream",
     "text": [
      "Metodo head():\n"
     ]
    },
    {
     "data": {
      "text/plain": [
       "1      Lavar la ropa\n",
       "2            Cocinar\n",
       "3    Limpiar el piso\n",
       "4            Cocinar\n",
       "dtype: object"
      ]
     },
     "execution_count": 15,
     "metadata": {},
     "output_type": "execute_result"
    }
   ],
   "source": [
    "print(\"Metodo head():\")\n",
    "quehaceres.head(4)"
   ]
  },
  {
   "cell_type": "code",
   "execution_count": 16,
   "id": "1487dd0b",
   "metadata": {},
   "outputs": [
    {
     "name": "stdout",
     "output_type": "stream",
     "text": [
      "Metodo tail():\n"
     ]
    },
    {
     "data": {
      "text/plain": [
       "4            Cocinar\n",
       "5    Sacar la Basura\n",
       "6     Tender la Cama\n",
       "7    Buscar Verduras\n",
       "dtype: object"
      ]
     },
     "execution_count": 16,
     "metadata": {},
     "output_type": "execute_result"
    }
   ],
   "source": [
    "print(\"Metodo tail():\")\n",
    "quehaceres.tail(4)"
   ]
  },
  {
   "cell_type": "code",
   "execution_count": 21,
   "id": "436cfbc5",
   "metadata": {},
   "outputs": [
    {
     "data": {
      "text/plain": [
       "1           Lavar la ropa\n",
       "2                planchar\n",
       "3         Limpiar el piso\n",
       "4          fregar el auto\n",
       "5         Sacar la Basura\n",
       "6    limpiar la zapatilla\n",
       "7         Buscar Verduras\n",
       "dtype: object"
      ]
     },
     "execution_count": 21,
     "metadata": {},
     "output_type": "execute_result"
    }
   ],
   "source": [
    "quehaceres[2] = \"planchar\"\n",
    "quehaceres[4] = \"fregar el auto\"\n",
    "quehaceres[6] = \"limpiar la zapatilla\"\n",
    "quehaceres.head(7)"
   ]
  },
  {
   "cell_type": "code",
   "execution_count": 23,
   "id": "0499c6bb",
   "metadata": {},
   "outputs": [
    {
     "data": {
      "text/plain": [
       "2     Bañar al perro\n",
       "3    Limpiar el piso\n",
       "4     tender la ropa\n",
       "5    Sacar la Basura\n",
       "6    limpiar la mesa\n",
       "7    Buscar Verduras\n",
       "dtype: object"
      ]
     },
     "execution_count": 23,
     "metadata": {},
     "output_type": "execute_result"
    }
   ],
   "source": [
    "quehaceres[2] = \"Bañar al perro\"\n",
    "quehaceres[4] = \"tender la ropa\"\n",
    "quehaceres[6] = \"limpiar la mesa\"\n",
    "quehaceres.tail(6)"
   ]
  },
  {
   "cell_type": "markdown",
   "id": "70a24b97",
   "metadata": {},
   "source": [
    "### **Actividad 3:**\n",
    "Operaciones aritméticas. \n",
    "* Realiza las operaciones basicas con 2 series cuales quieran.\n",
    "* Eleva los valores de la primer serie a 3 potencias difetentes."
   ]
  },
  {
   "cell_type": "code",
   "execution_count": null,
   "id": "a9c8ebc7",
   "metadata": {},
   "outputs": [],
   "source": [
    "\n",
    "# todo:"
   ]
  },
  {
   "cell_type": "markdown",
   "id": "b8dac397",
   "metadata": {},
   "source": [
    "### **Actividad 4:** \n",
    "Filtrado con condiciones.\n",
    "* Crea una Series de edades de 10 personas.\n",
    "* Muestra solo a los mayores de 18.\n",
    "* Reemplaza a los menores por \"Menor de edad\"."
   ]
  },
  {
   "cell_type": "code",
   "execution_count": null,
   "id": "d04fd492",
   "metadata": {},
   "outputs": [],
   "source": [
    "\n",
    "# todo:"
   ]
  },
  {
   "cell_type": "markdown",
   "id": "8889d0f2",
   "metadata": {},
   "source": [
    "### Actividad 5:\n",
    "Estadísticas básicas.\n",
    "\n",
    "* Crea una Series con las notas de 10 estudiantes.\n",
    "* Calcula la media, mediana, desviación estándar y máximo.\n",
    "* Muestra cuántos estudiantes aprobaron si el mínimo para aprobar es 6.\n",
    "* Ordenar las notas de manera ascendente y descendente. "
   ]
  },
  {
   "cell_type": "code",
   "execution_count": null,
   "id": "bc0ec844",
   "metadata": {},
   "outputs": [],
   "source": [
    "\n",
    "# todo:\n"
   ]
  }
 ],
 "metadata": {
  "kernelspec": {
   "display_name": "env",
   "language": "python",
   "name": "python3"
  },
  "language_info": {
   "codemirror_mode": {
    "name": "ipython",
    "version": 3
   },
   "file_extension": ".py",
   "mimetype": "text/x-python",
   "name": "python",
   "nbconvert_exporter": "python",
   "pygments_lexer": "ipython3",
   "version": "3.13.2"
  }
 },
 "nbformat": 4,
 "nbformat_minor": 5
}
